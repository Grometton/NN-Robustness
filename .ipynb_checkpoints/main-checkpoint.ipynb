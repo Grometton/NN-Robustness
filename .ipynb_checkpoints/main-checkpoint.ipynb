{
 "cells": [
  {
   "cell_type": "markdown",
   "metadata": {},
   "source": [
    "Source: https://www.youtube.com/watch?v=uRarIjJGmhs&t=602s\n",
    "\n",
    "# Problem description \n",
    "\n",
    "## Set-up\n",
    "Let $\\mathcal{F}_{k}(\\Psi)$ denote the class of 1-hidden layer neural networks (NN) given by $x \\mapsto \\sum_{l = 1}^k a_l \\Psi(w_l\\cdot x + b_l)$, with non-linear activation $\\Psi$, weights $w_l$ and bias terms $b_l$ and k neurons$. \n",
    "\n",
    "Let $(x_i,y_i)_{i = 1}^n \\in \\mathcal{S}^{d-1}\\times \\{-1,+1\\}$ be a random dataset drawn uniformly form the sphere $\\mathcal{S}^{d-1}$ with random labels $\\{-1,+1\\}$. \n",
    "\n",
    "## Conjecture \n",
    "With high probability (w.h.p.), any function $f \\in \\mathcal{F}_k{\\Psi}$ must satisfy $\\text{Lip}(f)\\geq C \\cdot \\sqrt{\\frac{n}{k}}$, where $\\text{Lip}(f)$ denotes the Lipschitz constant of $f$. "
   ]
  }
 ],
 "metadata": {
  "kernelspec": {
   "display_name": "Python 3",
   "language": "python",
   "name": "python3"
  },
  "language_info": {
   "codemirror_mode": {
    "name": "ipython",
    "version": 3
   },
   "file_extension": ".py",
   "mimetype": "text/x-python",
   "name": "python",
   "nbconvert_exporter": "python",
   "pygments_lexer": "ipython3",
   "version": "3.7.6"
  }
 },
 "nbformat": 4,
 "nbformat_minor": 4
}
